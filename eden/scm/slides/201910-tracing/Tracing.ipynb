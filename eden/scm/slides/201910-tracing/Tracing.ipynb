{
 "cells": [
  {
   "cell_type": "markdown",
   "metadata": {
    "slideshow": {
     "slide_type": "slide"
    }
   },
   "source": [
    "# Tracing\n",
    "\n",
    "Jun Wu"
   ]
  },
  {
   "cell_type": "markdown",
   "metadata": {
    "slideshow": {
     "slide_type": "slide"
    }
   },
   "source": [
    "## Tracing Data"
   ]
  },
  {
   "cell_type": "markdown",
   "metadata": {
    "slideshow": {
     "slide_type": "fragment"
    }
   },
   "source": [
    "Example:\n",
    "\n",
    "```\n",
    "[-----span 1------] <- {\"name\": \"span 1\", \"module\": \"a.py\", \"line\": 30, ...}\n",
    "  [--span 2--]      <- {\"name\": \"span 2\", \"module\": \"b.rs\", \"line\": 40, ...}\n",
    "  ^          ^\n",
    "  |          |\n",
    "  |          {\"action\": \"exit-span\", .... }\n",
    "  |\n",
    "  {\"action\": \"enter-span\", \"span\": \"span 2\", \"timestamp\": 10, \"tid\": 2, ...}\n",
    "```"
   ]
  },
  {
   "cell_type": "markdown",
   "metadata": {
    "slideshow": {
     "slide_type": "subslide"
    }
   },
   "source": [
    "Schema:\n",
    "\n",
    "```rust\n",
    "struct TracingData { spans: Vec<Span>, events: Vec<Event> }\n",
    "struct Span        { meta: Map<String, String> }\n",
    "struct Event       { action: Action, span_id: SpanId, time: Time, pid: u64, tid: u64 }\n",
    "enum   Action      { EnterSpan, ExitSpan } \n",
    "```"
   ]
  },
  {
   "cell_type": "markdown",
   "metadata": {
    "slideshow": {
     "slide_type": "fragment"
    }
   },
   "source": [
    "Implementation:\n",
    "\n",
    "```rust\n",
    "struct TracingData { ..., strings: Vec<String> }\n",
    "struct Span        { meta: Map<StringId, StringId> }\n",
    "struct Event       { ... }\n",
    "enum   Action      { ... }\n",
    "```"
   ]
  },
  {
   "cell_type": "markdown",
   "metadata": {
    "slideshow": {
     "slide_type": "slide"
    }
   },
   "source": [
    "## Tracing Integration"
   ]
  },
  {
   "cell_type": "markdown",
   "metadata": {
    "slideshow": {
     "slide_type": "fragment"
    }
   },
   "source": [
    "Rust, Python, Logging, Visualization"
   ]
  },
  {
   "cell_type": "markdown",
   "metadata": {
    "slideshow": {
     "slide_type": "subslide"
    }
   },
   "source": [
    "```\n",
    "  +-------------+                                     +------------+\n",
    "  |             |  tokio/tracing              Binary  |            |\n",
    "  |  Rust Code  +-----------------+         +--------->  Blackbox  |\n",
    "  |             |                 |         |         |            |\n",
    "  +-------------+                 |         |         +------------+\n",
    "                              +---v---------v--+\n",
    "                              |                |\n",
    "                              |  Tracing Data  |\n",
    "                              |                |\n",
    "                              +---^---------+--+\n",
    "+---------------+                 |         |         +--------------+\n",
    "|               |    bindings     |         |  JSON   |              |\n",
    "|  Python Code  +-----------------+         +---------> Chrome Trace |\n",
    "|               |                                     |              |\n",
    "+---------------+                                     +--------------+\n",
    "```"
   ]
  },
  {
   "cell_type": "markdown",
   "metadata": {
    "slideshow": {
     "slide_type": "slide"
    }
   },
   "source": [
    "## Tracing in Rust"
   ]
  },
  {
   "cell_type": "markdown",
   "metadata": {
    "slideshow": {
     "slide_type": "fragment"
    }
   },
   "source": [
    "Proc-macro:\n",
    "\n",
    "```rust\n",
    "use tracing::instrument;\n",
    "\n",
    "#[instrument]\n",
    "fn plus0(a: u8, b: u8) -> u8 {\n",
    "    a + b\n",
    "}\n",
    "```"
   ]
  },
  {
   "cell_type": "markdown",
   "metadata": {
    "slideshow": {
     "slide_type": "fragment"
    }
   },
   "source": [
    "```rust\n",
    "#[instrument(level = \"debug\")]\n",
    "fn plus1(a: u8, b: u8) -> u8 {\n",
    "    a + b\n",
    "}\n",
    "```"
   ]
  },
  {
   "cell_type": "markdown",
   "metadata": {
    "slideshow": {
     "slide_type": "subslide"
    }
   },
   "source": [
    "Manual:\n",
    "\n",
    "\n",
    "```rust\n",
    "use tracing::info_span;\n",
    "\n",
    "fn plus2(a: u8, b: u8) -> u8 {\n",
    "   info_span!(\"plus2\", a=a, b=b).in_scope(|| a + b)\n",
    "}\n",
    "```"
   ]
  },
  {
   "cell_type": "markdown",
   "metadata": {
    "slideshow": {
     "slide_type": "fragment"
    }
   },
   "source": [
    "```rust\n",
    "fn plus3(a: u8, b: u8) -> u8 {\n",
    "   let span = info_span!(\"plus3\", a=a, b=b, result=0);\n",
    "   let _guard = span.enter();\n",
    "   let res = a + b;\n",
    "   span.record(\"result\", &res);\n",
    "   res\n",
    "}\n",
    "```"
   ]
  },
  {
   "cell_type": "markdown",
   "metadata": {
    "slideshow": {
     "slide_type": "slide"
    }
   },
   "source": [
    "## Tracing Overhead in Rust"
   ]
  },
  {
   "cell_type": "markdown",
   "metadata": {
    "slideshow": {
     "slide_type": "fragment"
    }
   },
   "source": [
    "By reading `tokio/tracing` source code:\n",
    "- If a span is disabled, the overhead is a lock-free integer \"eq\" check (in one word: cheap).\n",
    "- If a span is enabled, the overhead probably involves some locking, memory lookups / cache misses, etc (in one word: expensive)."
   ]
  },
  {
   "cell_type": "markdown",
   "metadata": {
    "slideshow": {
     "slide_type": "subslide"
    }
   },
   "source": [
    "Good practise: Use `info` for summary. Use `debug` for loop body.\n",
    "\n",
    "```rust\n",
    "fn download_files(urls: &[URL]) {\n",
    "    info_span!(\"downloading files\", count=urls.len()).in_scope(|| {\n",
    "        urls.iter().for_each(download_single_file)\n",
    "    })\n",
    "}\n",
    "\n",
    "fn download_single_file(url: &URL) {\n",
    "    debug_span!(\"downloading file\", url=url).in_scope(|| { ... })\n",
    "}\n",
    "```"
   ]
  },
  {
   "cell_type": "markdown",
   "metadata": {
    "slideshow": {
     "slide_type": "fragment"
    }
   },
   "source": [
    "Default trace level is `info`. To change trace level:\n",
    "\n",
    "```bash\n",
    "EDENSCM_TRACE_LEVEL=debug ./hg ...\n",
    "```"
   ]
  },
  {
   "cell_type": "markdown",
   "metadata": {
    "slideshow": {
     "slide_type": "slide"
    }
   },
   "source": [
    "## Tracing in Python"
   ]
  },
  {
   "cell_type": "markdown",
   "metadata": {
    "slideshow": {
     "slide_type": "fragment"
    }
   },
   "source": [
    "Decorator:\n",
    "\n",
    "```python\n",
    "from bindings import tracing\n",
    "\n",
    "@tracing.wrapfunc\n",
    "def plus1(a, b):\n",
    "    return a + b\n",
    "```"
   ]
  },
  {
   "cell_type": "markdown",
   "metadata": {
    "slideshow": {
     "slide_type": "fragment"
    }
   },
   "source": [
    "Decorator, with extra metadata:\n",
    "\n",
    "```python\n",
    "from bindings import tracing\n",
    "\n",
    "@tracing.wrapfunc\n",
    "@tracing.meta(lambda a, b: [(\"a\", str(a)), (\"b\", str(b))])\n",
    "def plus1(a, b):\n",
    "    return a + b\n",
    "```"
   ]
  },
  {
   "cell_type": "markdown",
   "metadata": {
    "collapsed": true,
    "slideshow": {
     "slide_type": "subslide"
    }
   },
   "source": [
    "Manual:\n",
    "\n",
    "```python\n",
    "from bindings import tracing\n",
    "\n",
    "tracer = tracing.singleton\n",
    "\n",
    "def plus2(a, b):\n",
    "    spanid = tracer.span([(\"name\", \"plus2\"), (\"a\", str(a)), (\"b\", str(b))])\n",
    "    tracer.enter(spanid)\n",
    "    result = a + b\n",
    "    tracer.edit(spanid, [(\"result\", str(result))])\n",
    "    tracer.exit(spanid)\n",
    "    return result\n",
    "```\n",
    "\n",
    "Note: No line number or module name recorded automatically."
   ]
  },
  {
   "cell_type": "markdown",
   "metadata": {
    "slideshow": {
     "slide_type": "slide"
    }
   },
   "source": [
    "## Tracing Overhead in Python"
   ]
  },
  {
   "cell_type": "code",
   "execution_count": 1,
   "metadata": {
    "collapsed": true,
    "slideshow": {
     "slide_type": "skip"
    }
   },
   "outputs": [],
   "source": [
    "export CHGDISABLE=1"
   ]
  },
  {
   "cell_type": "code",
   "execution_count": 2,
   "metadata": {
    "scrolled": true,
    "slideshow": {
     "slide_type": "fragment"
    }
   },
   "outputs": [
    {
     "name": "stdout",
     "output_type": "stream",
     "text": [
      "   0.0x      0ns  # nop\n",
      "   3.4x    266ns  # wrap\n",
      "  12.9x    998ns  # wrap_meta\n",
      "  24.5x   1895ns  # bindings\n"
     ]
    }
   ],
   "source": [
    "~/hg/hg debugpython << 'EOS'\n",
    "from timeit import timeit\n",
    "from bindings import tracing\n",
    "def nop(): pass\n",
    "@tracing.wrapfunc\n",
    "def wrap(): pass\n",
    "@tracing.wrapfunc\n",
    "@tracing.meta(lambda: [(\"color\", \"blue\")])\n",
    "def wrap_meta(): pass\n",
    "def bindings(tracer=tracing.singleton):\n",
    "    id = tracer.span([(\"name\", \"bindings\")]); tracer.enter(id); tracer.exit(id)\n",
    "base = timeit(nop, number=10000)\n",
    "for f in [nop, wrap, wrap_meta, bindings]:\n",
    "    duration = timeit(f, number=10000)\n",
    "    print(\"{:>6.1f}x {:>6.0f}ns  # {}\".format(duration / base - 1, (duration - base) * 1e5, f.__name__))\n",
    "EOS"
   ]
  },
  {
   "cell_type": "markdown",
   "metadata": {
    "slideshow": {
     "slide_type": "slide"
    }
   },
   "source": [
    "## Trace-Them-All as a Profiler"
   ]
  },
  {
   "cell_type": "markdown",
   "metadata": {
    "slideshow": {
     "slide_type": "fragment"
    }
   },
   "source": [
    "It could be affordable:\n",
    "\n",
    "- `wrapfunc` has 300ns overhead per Python function call.\n",
    "- A command like `hg sl` can take 1 second. It has 200k calls.\n",
    "- If _all_ functions are wrapped, the overhead of `hg sl` is 60ms, or 6%.\n",
    "- As a comparison, `import sapling.eden_dirstate` takes 50ms.\n",
    "\n",
    "If some functions are not cheap to trace, we can blacklist them."
   ]
  },
  {
   "cell_type": "markdown",
   "metadata": {
    "slideshow": {
     "slide_type": "skip"
    }
   },
   "source": [
    "To trace functions in modules automatically (simplified):\n",
    "\n",
    "```python\n",
    "def tracemodule(mod):\n",
    "    moddict = mod.__dict__\n",
    "    for name, item in moddict.items():\n",
    "        if callable(item):\n",
    "            moddict[name] = tracing.wrapfunc(item)\n",
    "```"
   ]
  },
  {
   "cell_type": "markdown",
   "metadata": {
    "slideshow": {
     "slide_type": "skip"
    }
   },
   "source": [
    "To get a chance to trace modules at import time:\n",
    "\n",
    "```python\n",
    "# PEP 302: Import Hooks. Easier to use than `__import__`.\n",
    "class ImportHook(object):\n",
    "    def find_module(self, fullname):\n",
    "        __import__(fullname)  # can also measure import overhead here\n",
    "        tracemodule(sys.modules[fullname])\n",
    "        ...\n",
    "\n",
    "sys.meta_path.insert(0, ImportHook())\n",
    "```"
   ]
  },
  {
   "cell_type": "markdown",
   "metadata": {
    "slideshow": {
     "slide_type": "subslide"
    }
   },
   "source": [
    "`sapling.traceimport` added to handle automatic tracing. It is enabled right before `sapling.hgdemandimport`. "
   ]
  },
  {
   "cell_type": "markdown",
   "metadata": {
    "slideshow": {
     "slide_type": "fragment"
    }
   },
   "source": [
    "Python tracing can be turned on via `EDENSCM_TRACE_PY`:\n",
    "\n",
    "```bash\n",
    "EDENSCM_TRACE_PY='*' ./hg ...           # (attempt to) trace everything\n",
    "EDENSCM_TRACE_PY='import' ...           # trace import overhead\n",
    "EDENSCM_TRACE_PY='import sapling.*' ... # trace imports, and sapling modules\n",
    "```\n",
    "\n",
    "Wrapping happens at `import` time. The importer is changed at `sapling.run`, before enabling `demandimport`."
   ]
  },
  {
   "cell_type": "markdown",
   "metadata": {
    "slideshow": {
     "slide_type": "slide"
    }
   },
   "source": [
    "## Python Profiler / Tracing Feature Matrix\n",
    "\n",
    "|                      | statprof | traceprof | perftrace | tracing |\n",
    "|----------------------|----------|-----------|-----------|---------|\n",
    "| Profiler Overhead    | Low      | 14%       | -         | 6%      |\n",
    "| High Precision       | No       | Yes       | Yes       | Yes     |\n",
    "| Auto Instructment    | Yes      | Yes       | No        | Yes     |\n",
    "| Include Line Numbers | Yes      | Yes       | No        | Yes     |\n",
    "| Call Count           | **No**   | Yes       | Yes       | Yes     |\n",
    "| Trace Rust Code      | No       | No        | No        | **Yes** |\n",
    "| Trace Imports        | No       | No        | No        | Yes     |\n",
    "| Metadata Annotations | No       | No        | Yes       | Yes     |\n",
    "| Clean Traceback      | Yes      | Yes       | No        | Yes     |\n",
    "| Trace Multi-threads  | No       | No        | No        | Yes     |\n",
    "| Deserialization      | Yes      | No        | No        | Yes     |\n",
    "| ASCII Visualizer     | Yes      | Yes       | Yes       | Yes     |\n",
    "| Chrome Visualizer    | Yes      | No        | No        | Yes     |\n",
    "| Merge Traces         | No       | No        | No        | Yes     |\n",
    "| \"No\"s                | 7        | 7         | 9         | 0       |"
   ]
  },
  {
   "cell_type": "markdown",
   "metadata": {
    "slideshow": {
     "slide_type": "slide"
    }
   },
   "source": [
    "# Output Formats"
   ]
  },
  {
   "cell_type": "markdown",
   "metadata": {
    "slideshow": {
     "slide_type": "fragment"
    }
   },
   "source": [
    "- ASCII\n",
    "- Trace Event: `serde::Serialize` (which can be converted to JSON, CBOR, `PyObject`, etc.)\n",
    "- Tree Spans: `serde::Serialize` (which can be converted to `PyObject`, etc.)"
   ]
  },
  {
   "cell_type": "code",
   "execution_count": 3,
   "metadata": {
    "collapsed": true,
    "slideshow": {
     "slide_type": "skip"
    }
   },
   "outputs": [],
   "source": [
    "cat > ~/print << EOF\n",
    "#!$HOME/hg/hg debugpython\n",
    "import sys\n",
    "from bindings import tracing\n",
    "\n",
    "t = tracing.tracingdata()\n",
    "with t:\n",
    "    exec(sys.stdin.read())\n",
    "\n",
    "if sys.argv[1] == 'ascii':\n",
    "    min_micros = int(sys.argv[2])\n",
    "    print(t.ascii(min_micros).strip())\n",
    "elif sys.argv[1] == 'traceevent':\n",
    "    import json\n",
    "    print(json.dumps(t.traceevent(), sort_keys=True, indent=4, separators=(',', ': ')))\n",
    "else:\n",
    "    import pprint\n",
    "    pprint.pprint(t.treespans())\n",
    "EOF\n",
    "\n",
    "chmod +x ~/print"
   ]
  },
  {
   "cell_type": "markdown",
   "metadata": {
    "slideshow": {
     "slide_type": "slide"
    }
   },
   "source": [
    "## The ASCII Format"
   ]
  },
  {
   "cell_type": "markdown",
   "metadata": {
    "slideshow": {
     "slide_type": "subslide"
    }
   },
   "source": [
    "Accurate recursive call graph (like traceprof)."
   ]
  },
  {
   "cell_type": "code",
   "execution_count": 4,
   "metadata": {
    "slideshow": {
     "slide_type": "fragment"
    }
   },
   "outputs": [
    {
     "name": "stdout",
     "output_type": "stream",
     "text": [
      "Process 2366865 Thread 2366865:\n",
      "Start Dur.ms | Name               Source\n",
      "    0     +0 | __main__.fib       __main__ line 2\n",
      "    0     +0  \\ __main__.fib      __main__ line 2\n",
      "    0     +0   \\ __main__.fib     __main__ line 2\n",
      "    0     +0    \\ __main__.fib    __main__ line 2\n",
      "    0     +0    \\ __main__.fib    __main__ line 2\n",
      "    0     +0   \\ __main__.fib     __main__ line 2\n",
      "    0     +0  \\ __main__.fib      __main__ line 2\n",
      "    0     +0   | __main__.fib     __main__ line 2\n",
      "    0     +0   | __main__.fib     __main__ line 2\n"
     ]
    }
   ],
   "source": [
    "~/print ascii 0 << 'EOS'\n",
    "\n",
    "@tracing.wrapfunc\n",
    "def fib(x):\n",
    "    return x if x <= 2 else fib(x - 1) + fib(x - 2)\n",
    "\n",
    "fib(5)\n",
    "EOS"
   ]
  },
  {
   "cell_type": "markdown",
   "metadata": {
    "slideshow": {
     "slide_type": "subslide"
    }
   },
   "source": [
    "Annotated metadata (like perftrace)"
   ]
  },
  {
   "cell_type": "code",
   "execution_count": 5,
   "metadata": {
    "slideshow": {
     "slide_type": "fragment"
    }
   },
   "outputs": [
    {
     "name": "stdout",
     "output_type": "stream",
     "text": [
      "Process 2366892 Thread 2366892:\n",
      "Start Dur.ms | Name               Source\n",
      "    0     +0 | __main__.fib       __main__ line 2\n",
      "             | - x = 4            :\n",
      "    0     +0  \\ __main__.fib      __main__ line 2\n",
      "               | - x = 3          :\n",
      "    0     +0   \\ __main__.fib     __main__ line 2\n",
      "                | - x = 2         :\n",
      "    0     +0   \\ __main__.fib     __main__ line 2\n",
      "                | - x = 1         :\n",
      "    0     +0  \\ __main__.fib      __main__ line 2\n",
      "               | - x = 2          :\n"
     ]
    }
   ],
   "source": [
    "~/print ascii 0 << 'EOS'\n",
    "\n",
    "@tracing.wrapfunc\n",
    "@tracing.meta(lambda x: [(\"x\", str(x))])\n",
    "def fib(x):\n",
    "    return x if x <= 2 else fib(x - 1) + fib(x - 2)\n",
    "\n",
    "fib(4)\n",
    "EOS"
   ]
  },
  {
   "cell_type": "markdown",
   "metadata": {
    "slideshow": {
     "slide_type": "subslide"
    }
   },
   "source": [
    "Call counts (like traceprof)"
   ]
  },
  {
   "cell_type": "code",
   "execution_count": 6,
   "metadata": {
    "slideshow": {
     "slide_type": "fragment"
    }
   },
   "outputs": [
    {
     "name": "stdout",
     "output_type": "stream",
     "text": [
      "Process 2366912 Thread 2366912:\n",
      "Start Dur.ms | Name                  Source\n",
      "    0   +101 | time.sleep (10 times) time line None\n"
     ]
    }
   ],
   "source": [
    "~/print ascii 50000 << 'EOS'\n",
    "import time\n",
    "\n",
    "sleep = tracing.wrapfunc(time.sleep)\n",
    "\n",
    "for i in range(10):\n",
    "    sleep(0.01)\n",
    "EOS"
   ]
  },
  {
   "cell_type": "markdown",
   "metadata": {
    "slideshow": {
     "slide_type": "slide"
    }
   },
   "source": [
    "## The Tree Spans Format"
   ]
  },
  {
   "cell_type": "markdown",
   "metadata": {
    "slideshow": {
     "slide_type": "fragment"
    }
   },
   "source": [
    "Used internally by the ASCII render."
   ]
  },
  {
   "cell_type": "code",
   "execution_count": 7,
   "metadata": {
    "scrolled": false,
    "slideshow": {
     "slide_type": "fragment"
    }
   },
   "outputs": [
    {
     "name": "stdout",
     "output_type": "stream",
     "text": [
      "{(2366997, 2366997): [{'children': [1], 'duration': 0, 'start': 0},\n",
      "                      {'children': [2],\n",
      "                       'duration': 3,\n",
      "                       'line': '2',\n",
      "                       'module_path': '__main__',\n",
      "                       'name': '__main__.fact',\n",
      "                       'start': 137},\n",
      "                      {'children': [],\n",
      "                       'duration': 1,\n",
      "                       'line': '2',\n",
      "                       'module_path': '__main__',\n",
      "                       'name': '__main__.fact',\n",
      "                       'start': 138}]}\n"
     ]
    }
   ],
   "source": [
    "~/print treespans 0 << 'EOS'\n",
    "\n",
    "@tracing.wrapfunc\n",
    "def fact(x):\n",
    "    return x if x <= 1 else x * fact(x - 1)\n",
    "\n",
    "fact(2)\n",
    "EOS"
   ]
  },
  {
   "cell_type": "markdown",
   "metadata": {
    "slideshow": {
     "slide_type": "slide"
    }
   },
   "source": [
    "## The Trace Event Format"
   ]
  },
  {
   "cell_type": "markdown",
   "metadata": {
    "slideshow": {
     "slide_type": "fragment"
    }
   },
   "source": [
    "Format specification: https://github.com/catapult-project/catapult/wiki/Trace-Event-Format.\n",
    "\n",
    "Supported By:\n",
    "- Chrome `about:tracing`\n",
    "- Chrome DevTools - Performance\n",
    "- https://www.speedscope.app (might render incorrectly: https://github.com/jlfwong/speedscope/issues/223)"
   ]
  },
  {
   "cell_type": "code",
   "execution_count": 8,
   "metadata": {
    "slideshow": {
     "slide_type": "subslide"
    }
   },
   "outputs": [
    {
     "name": "stdout",
     "output_type": "stream",
     "text": [
      "{\n",
      "    \"displayTimeUnit\": \"ms\",\n",
      "    \"otherData\": {},\n",
      "    \"traceEvents\": [\n",
      "        {\n",
      "            \"args\": {\n",
      "                \"line\": \"None\",\n",
      "                \"module_path\": \"__builtin__\"\n",
      "            },\n",
      "            \"cat\": \"default\",\n",
      "            \"name\": \"__builtin__.id\",\n",
      "            \"ph\": \"B\",\n",
      "            \"pid\": 2366999,\n",
      "            \"tid\": 2366999,\n",
      "            \"ts\": 73\n",
      "        },\n",
      "        {\n",
      "            \"args\": {\n",
      "                \"line\": \"None\",\n",
      "                \"module_path\": \"__builtin__\"\n",
      "            },\n",
      "            \"cat\": \"default\",\n",
      "            \"name\": \"__builtin__.id\",\n",
      "            \"ph\": \"E\",\n",
      "            \"pid\": 2366999,\n",
      "            \"tid\": 2366999,\n",
      "            \"ts\": 74\n",
      "        }\n",
      "    ]\n",
      "}\n"
     ]
    }
   ],
   "source": [
    "echo 'tracing.wrapfunc(id)(1)' | ~/print traceevent"
   ]
  },
  {
   "attachments": {
    "catapult1.png": {
     "image/png": "[encoded data removed]"
    }
   },
   "cell_type": "markdown",
   "metadata": {
    "slideshow": {
     "slide_type": "subslide"
    }
   },
   "source": [
    "Chrome `about:tracing`:\n",
    "\n",
    "![catapult1.png](attachment:catapult1.png)"
   ]
  },
  {
   "attachments": {
    "devtools1.png": {
     "image/png": "[encoded data removed]"
    }
   },
   "cell_type": "markdown",
   "metadata": {
    "slideshow": {
     "slide_type": "subslide"
    }
   },
   "source": [
    "Chrome DevTools -> Performance.\n",
    "\n",
    "![devtools1.png](attachment:devtools1.png)"
   ]
  },
  {
   "cell_type": "markdown",
   "metadata": {
    "slideshow": {
     "slide_type": "slide"
    }
   },
   "source": [
    "## Exporting Tracing Data"
   ]
  },
  {
   "cell_type": "markdown",
   "metadata": {
    "slideshow": {
     "slide_type": "fragment"
    }
   },
   "source": [
    "Single command. Use `EDENSCM_TRACE_OUTPUT`:\n",
    "\n",
    "```bash\n",
    "export CHGDISABLE=1\n",
    "EDENSCM_TRACE_OUTPUT=a.txt     ./hg ...\n",
    "EDENSCM_TRACE_OUTPUT=a.json    ./hg ...\n",
    "EDENSCM_TRACE_OUTPUT=a.json.gz EDENSCM_TRACE_PY='import sapling.*' EDENSCM_TRACE_LEVEL=debug ./hg ...\n",
    "```"
   ]
  },
  {
   "cell_type": "markdown",
   "metadata": {
    "slideshow": {
     "slide_type": "fragment"
    }
   },
   "source": [
    "Traces are also logged in blackbox. Use `hg dump-trace` to merge and export them:\n",
    "\n",
    "```bash\n",
    "hg dump-trace -o a.json.gz -t 'since 15 minutes ago'\n",
    "```"
   ]
  },
  {
   "cell_type": "markdown",
   "metadata": {
    "slideshow": {
     "slide_type": "slide"
    }
   },
   "source": [
    "## Tracing for Better Testing"
   ]
  },
  {
   "cell_type": "markdown",
   "metadata": {
    "slideshow": {
     "slide_type": "fragment"
    }
   },
   "source": [
    "Examples:\n",
    "\n",
    "- Expect a template rendering function to be called N times, under another function. How can I test it?\n",
    "- Expect a network fetch function to *not* fetch `foo/bar`. How can I test it?"
   ]
  },
  {
   "cell_type": "markdown",
   "metadata": {
    "slideshow": {
     "slide_type": "fragment"
    }
   },
   "source": [
    "Today, in `.t` tests:\n",
    "\n",
    "```\n",
    "  $ hg show X --debug\n",
    "  ...\n",
    "  12 files fetched over 1 fetches - (12 misses, 0.00% hit ratio) over 0.00s\n",
    "```"
   ]
  },
  {
   "cell_type": "markdown",
   "metadata": {
    "slideshow": {
     "slide_type": "subslide"
    }
   },
   "source": [
    "In Python tests:\n",
    "\n",
    "```python\n",
    "t = tracing.tracingdata()\n",
    "with t:\n",
    "    sh % \"hg amend\"  # code to test\n",
    "\n",
    "assert t.treespans() ... # check spans\n",
    "```"
   ]
  },
  {
   "cell_type": "markdown",
   "metadata": {
    "slideshow": {
     "slide_type": "fragment"
    }
   },
   "source": [
    "In Rust:\n",
    "\n",
    "```rust\n",
    "let data = Arc::new(Mutex::new(TracingData::new()));\n",
    "let collector = TracingCollector::new(data.clone(), Level::DEBUG);\n",
    "\n",
    "tracing::subscriber::with_default(collector, || {\n",
    "    ... // code to test\n",
    "});\n",
    "\n",
    "data.lock().tree_spans();  // check spans\n",
    "```"
   ]
  },
  {
   "cell_type": "markdown",
   "metadata": {
    "slideshow": {
     "slide_type": "slide"
    }
   },
   "source": [
    "## Goodies"
   ]
  },
  {
   "cell_type": "markdown",
   "metadata": {
    "slideshow": {
     "slide_type": "fragment"
    }
   },
   "source": [
    "### Date Parsing\n",
    "\n",
    "`lib/hgtime`:\n",
    "\n",
    "- Compatible with formats specified by `hg help dates`.\n",
    "- Support `... ago` human-readable formats.\n",
    "\n",
    "Examples:\n",
    "\n",
    "```rust\n",
    "let time1 = hgtime::HgTime::parse(\"Oct 1\");\n",
    "let time2 = hgtime::HgTime::parse(\"5 minutes ago\");\n",
    "let time_range1 = hgtime::HgTime::parse(\"since 10m ago\");\n",
    "let time_range2 = hgtime::HgTime::parse(\"Oct 1 to Oct 2\");\n",
    "let time_range3 = hgtime::HgTime::parse(\"Apr 2019\");  // Apr 1, 2019 to Apr 30, 2019\n",
    "```"
   ]
  },
  {
   "cell_type": "markdown",
   "metadata": {
    "slideshow": {
     "slide_type": "subslide"
    }
   },
   "source": [
    "### Mincode: Fast, Compat Serde Serialization\n",
    "\n",
    "`lib/mincode`\n",
    "\n",
    "- Similar to bincode. But uses VLQ for integers to save spaces.\n",
    "- Compact and fast. Suitable for stable structures. See D17087352 for benchmark.\n",
    "- If you consider `serde_cbor::ser::to_*_packed` to reduce size, most likely `mincode` is a better choice.\n",
    "- @wez has also reinvented the same thing as `varbincode`."
   ]
  },
  {
   "cell_type": "markdown",
   "metadata": {
    "slideshow": {
     "slide_type": "subslide"
    }
   },
   "source": [
    "### Convert serde values to Python objects\n",
    "\n",
    "`lib/cpython-ext`\n",
    "\n",
    "Anything that implements `serde::Serialize` can be converted to Python objects trivially and efficiently.\n",
    "\n",
    "```rust\n",
    "let mut map = HashMap::<u32, u32>::new();  // Invalid JSON \n",
    "map.insert(1, 2);\n",
    "\n",
    "let obj = cpython_ext::ser::to_object(py, &map)?;\n",
    "```"
   ]
  },
  {
   "cell_type": "markdown",
   "metadata": {
    "slideshow": {
     "slide_type": "subslide"
    }
   },
   "source": [
    "### Rust Subcommands\n",
    "\n",
    "`lib/hgcommands`\n",
    "\n",
    "Register using `-` in command names:\n",
    "\n",
    "```rust\n",
    "table.register(foo_bar, \"foo-bar\", \"...\");\n",
    "```\n",
    "\n",
    "Supported syntax:\n",
    "\n",
    "- `hg foo-bar`\n",
    "- `hg foo --bar`\n",
    "- `hg foo bar` (if `hg foo` is not a command)\n",
    "\n",
    "Also works for aliases. \n",
    "\n",
    "Potential goal: move hacky flags away from main commands. For example, `diff --since-last-arc-diff`, and `amend --fixup`."
   ]
  },
  {
   "cell_type": "markdown",
   "metadata": {
    "slideshow": {
     "slide_type": "subslide"
    }
   },
   "source": [
    "### Tracing non-hg programs\n",
    "\n",
    "`hg debugpython --trace 'sapling.*' python-script.py` can be used to do ad-hoc analysis."
   ]
  },
  {
   "cell_type": "markdown",
   "metadata": {
    "slideshow": {
     "slide_type": "slide"
    }
   },
   "source": [
    "## Future Plans\n",
    "\n",
    "- Rage: Upload traces. Links to visualizers.\n",
    "- Scuba: Upload both ASCII and Chrome traces.  Links to visualizers.\n",
    "- Telemetry: Calculate derived data from blackbox in background."
   ]
  },
  {
   "cell_type": "markdown",
   "metadata": {
    "collapsed": true,
    "slideshow": {
     "slide_type": "subslide"
    }
   },
   "source": [
    "## You can help!\n",
    "\n",
    "- Set up Rust tracing.\n",
    "- Add missing perftrace spans.\n",
    "- Write test assertions using tracing spans.\n",
    "- Look at the profiling result and fix low-hanging fruits.\n"
   ]
  },
  {
   "cell_type": "markdown",
   "metadata": {
    "slideshow": {
     "slide_type": "slide"
    }
   },
   "source": [
    "<center><h3>Demo / QA</h3></center>"
   ]
  },
  {
   "cell_type": "code",
   "execution_count": null,
   "metadata": {
    "collapsed": true,
    "slideshow": {
     "slide_type": "skip"
    }
   },
   "outputs": [],
   "source": []
  }
 ],
 "metadata": {
  "bento_stylesheets": {
   "bento/extensions/flow/main.css": true,
   "bento/extensions/kernel_selector/main.css": true,
   "bento/extensions/kernel_ui/main.css": true,
   "bento/extensions/new_kernel/main.css": true,
   "bento/extensions/system_usage/main.css": true,
   "bento/extensions/theme/main.css": true
  },
  "celltoolbar": "Slideshow",
  "kernelspec": {
   "display_name": "bash",
   "language": "python",
   "name": "bento_kernel_bash"
  },
  "language_info": {
   "codemirror_mode": "shell",
   "file_extension": ".sh",
   "mimetype": "text/x-sh",
   "name": "bash"
  },
  "varInspector": {
   "cols": {
    "lenName": 16,
    "lenType": 16,
    "lenVar": 40
   },
   "kernels_config": {
    "python": {
     "delete_cmd_postfix": "",
     "delete_cmd_prefix": "del ",
     "library": "var_list.py",
     "varRefreshCmd": "print(var_dic_list())"
    },
    "r": {
     "delete_cmd_postfix": ") ",
     "delete_cmd_prefix": "rm(",
     "library": "var_list.r",
     "varRefreshCmd": "cat(var_dic_list()) "
    }
   },
   "types_to_exclude": [
    "module",
    "function",
    "builtin_function_or_method",
    "instance",
    "_Feature"
   ],
   "window_display": false
  }
 },
 "nbformat": 4,
 "nbformat_minor": 2
}
